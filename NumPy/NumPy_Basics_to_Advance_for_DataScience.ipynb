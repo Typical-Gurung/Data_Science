{
 "cells": [
  {
   "cell_type": "code",
   "execution_count": 3,
   "id": "b6b013c0-3a6a-4e19-947d-2aa04f10662e",
   "metadata": {},
   "outputs": [
    {
     "name": "stdout",
     "output_type": "stream",
     "text": [
      "Requirement already satisfied: numpy in c:\\users\\acer\\anaconda3\\lib\\site-packages (1.26.4)\n"
     ]
    }
   ],
   "source": [
    "!pip install numpy"
   ]
  },
  {
   "cell_type": "markdown",
   "id": "f31fccfc-af62-49ce-8535-caeaf78ce417",
   "metadata": {},
   "source": [
    "# Single Dimensional Array "
   ]
  },
  {
   "cell_type": "markdown",
   "id": "ebae86e7-9179-4ff9-8ee1-c721ff319840",
   "metadata": {},
   "source": [
    "import numpy as np\n",
    "n1=np.array([10,20,30,40])\n",
    "n1"
   ]
  },
  {
   "cell_type": "code",
   "execution_count": 15,
   "id": "aa78b041-b3ec-4cc0-8b3d-3ee78b08f366",
   "metadata": {},
   "outputs": [
    {
     "data": {
      "text/plain": [
       "numpy.ndarray"
      ]
     },
     "execution_count": 15,
     "metadata": {},
     "output_type": "execute_result"
    }
   ],
   "source": [
    "type(n1)\n"
   ]
  },
  {
   "cell_type": "markdown",
   "id": "955b361c-b34b-4435-8235-87bb9ab9cba2",
   "metadata": {},
   "source": [
    "## Multidimenional Numpy Array\n"
   ]
  },
  {
   "cell_type": "code",
   "execution_count": 16,
   "id": "b86cfcf6-8772-40c3-9cb6-3f1a2ded4a16",
   "metadata": {},
   "outputs": [
    {
     "name": "stdout",
     "output_type": "stream",
     "text": [
      "[[10 20 30]\n",
      " [10 80 90]\n",
      " [30 50 60]]\n"
     ]
    }
   ],
   "source": [
    "import numpy as np\n",
    "n2=np.array([[10,20,30],[10,80,90],[30,50,60]])\n",
    "print(n2)"
   ]
  },
  {
   "cell_type": "code",
   "execution_count": null,
   "id": "ca44f55a-0918-4e09-b45a-2e2515517e44",
   "metadata": {},
   "outputs": [],
   "source": [
    "# Initilize NumPy Array With Zeros"
   ]
  },
  {
   "cell_type": "code",
   "execution_count": 19,
   "id": "3bfbc802-cd1b-46cb-840f-e56b61af509e",
   "metadata": {},
   "outputs": [
    {
     "name": "stdout",
     "output_type": "stream",
     "text": [
      "[[0. 0. 0.]\n",
      " [0. 0. 0.]]\n"
     ]
    }
   ],
   "source": [
    "n3=np.zeros((2,3))\n",
    "print(n3)"
   ]
  },
  {
   "cell_type": "code",
   "execution_count": 22,
   "id": "8183e6ac-823f-4bb8-a903-182ddcf62568",
   "metadata": {},
   "outputs": [
    {
     "name": "stdout",
     "output_type": "stream",
     "text": [
      "[[0. 0. 0. 0. 0. 0. 0. 0. 0.]\n",
      " [0. 0. 0. 0. 0. 0. 0. 0. 0.]\n",
      " [0. 0. 0. 0. 0. 0. 0. 0. 0.]\n",
      " [0. 0. 0. 0. 0. 0. 0. 0. 0.]\n",
      " [0. 0. 0. 0. 0. 0. 0. 0. 0.]\n",
      " [0. 0. 0. 0. 0. 0. 0. 0. 0.]\n",
      " [0. 0. 0. 0. 0. 0. 0. 0. 0.]\n",
      " [0. 0. 0. 0. 0. 0. 0. 0. 0.]\n",
      " [0. 0. 0. 0. 0. 0. 0. 0. 0.]]\n"
     ]
    }
   ],
   "source": [
    "n4=np.zeros((9,9))\n",
    "print(n4)"
   ]
  },
  {
   "cell_type": "markdown",
   "id": "1448c509-31b8-419f-8d3b-93b1cd88a0cf",
   "metadata": {},
   "source": [
    "# Initiliztion a array of matrix with full then"
   ]
  },
  {
   "cell_type": "code",
   "execution_count": 24,
   "id": "ecedcecf-ee47-4df9-beed-44a427d1fa9f",
   "metadata": {},
   "outputs": [
    {
     "name": "stdout",
     "output_type": "stream",
     "text": [
      "[[9 9 9]\n",
      " [9 9 9]\n",
      " [9 9 9]]\n"
     ]
    }
   ],
   "source": [
    "n5=np.full((3,3),9)\n",
    "print(n5)"
   ]
  },
  {
   "cell_type": "markdown",
   "id": "14acae98-1ecd-4b80-a5ba-1c939eae79ac",
   "metadata": {},
   "source": [
    "# Initilization of Numpy array within a range"
   ]
  },
  {
   "cell_type": "code",
   "execution_count": 28,
   "id": "61ae8e99-c152-479d-ad14-5ffcb55476ce",
   "metadata": {},
   "outputs": [
    {
     "name": "stdout",
     "output_type": "stream",
     "text": [
      "[10 11 12 13 14 15 16 17 18 19]\n"
     ]
    }
   ],
   "source": [
    "n6=np.arange(10,20)\n",
    "print(n6)"
   ]
  },
  {
   "cell_type": "markdown",
   "id": "f38fd0fb-8eb6-4b72-8fdc-1d401e809d4b",
   "metadata": {},
   "source": [
    "# Initilization of the NumPy array with the skip numbers"
   ]
  },
  {
   "cell_type": "code",
   "execution_count": 29,
   "id": "bd98857a-f9f3-40a9-96b6-74f82761d7ed",
   "metadata": {},
   "outputs": [
    {
     "name": "stdout",
     "output_type": "stream",
     "text": [
      "[ 1  3  5  7  9 11 13 15 17 19]\n"
     ]
    }
   ],
   "source": [
    "n7=np.arange(1,20,2)\n",
    "print(n7)"
   ]
  },
  {
   "cell_type": "markdown",
   "id": "738160f2-e44b-462b-abed-dc05a962870a",
   "metadata": {},
   "source": [
    "# Initilization Numpy array with the random numbers"
   ]
  },
  {
   "cell_type": "code",
   "execution_count": 36,
   "id": "c756c0f3-9b7d-4a43-a49a-dfffe6f33546",
   "metadata": {},
   "outputs": [
    {
     "name": "stdout",
     "output_type": "stream",
     "text": [
      "[220 820 753 167 491 660 743 352 469 190]\n"
     ]
    }
   ],
   "source": [
    "n8=np.random.randint(100,1000,10)\n",
    "print(n8)"
   ]
  },
  {
   "cell_type": "markdown",
   "id": "472a3e45-8f54-40ad-9ce6-12585fdcf3d8",
   "metadata": {},
   "source": [
    "# Initilization the array shape changes in a fraction of seconds."
   ]
  },
  {
   "cell_type": "code",
   "execution_count": 42,
   "id": "b2afcf74-53e3-49dc-8ce0-e03e1c7062bf",
   "metadata": {},
   "outputs": [
    {
     "name": "stdout",
     "output_type": "stream",
     "text": [
      "[[10 20 30]\n",
      " [10 80 90]\n",
      " [30 50 80]\n",
      " [20 40 50]]\n"
     ]
    }
   ],
   "source": [
    "n9=np.array([[10,20,30],[10,80,90],[30,50,80],[20,40,50]])\n",
    "print(n9)"
   ]
  },
  {
   "cell_type": "code",
   "execution_count": 43,
   "id": "895b28fe-8516-4c67-b37d-743c6df2d5ec",
   "metadata": {},
   "outputs": [
    {
     "data": {
      "text/plain": [
       "(4, 3)"
      ]
     },
     "execution_count": 43,
     "metadata": {},
     "output_type": "execute_result"
    }
   ],
   "source": [
    "n9.shape"
   ]
  },
  {
   "cell_type": "code",
   "execution_count": 48,
   "id": "a20000d1-b938-4cc7-b824-887b21e91d8e",
   "metadata": {},
   "outputs": [
    {
     "name": "stdout",
     "output_type": "stream",
     "text": [
      "[[10 20 30 10]\n",
      " [80 90 30 50]\n",
      " [80 20 40 50]]\n"
     ]
    }
   ],
   "source": [
    "n9.shape=(3,4)\n",
    "print(n9)"
   ]
  },
  {
   "cell_type": "markdown",
   "id": "6189a541-66a7-4bf2-9fc5-ca3aea37e988",
   "metadata": {},
   "source": [
    "# Joining Numpy Array"
   ]
  },
  {
   "cell_type": "code",
   "execution_count": 49,
   "id": "ff15c677-e31c-4172-b841-3d990f18dc39",
   "metadata": {},
   "outputs": [],
   "source": [
    "a=np.array([10,20,30,40,50,60,70,80,90,100])\n",
    "b=np.array([5,10,15,20,25,30,35,40,55,60])\n"
   ]
  },
  {
   "cell_type": "code",
   "execution_count": 51,
   "id": "51ac53d1-78de-4baf-9405-75d9d4693d44",
   "metadata": {},
   "outputs": [
    {
     "data": {
      "text/plain": [
       "array([[ 10,  20,  30,  40,  50,  60,  70,  80,  90, 100],\n",
       "       [  5,  10,  15,  20,  25,  30,  35,  40,  55,  60]])"
      ]
     },
     "execution_count": 51,
     "metadata": {},
     "output_type": "execute_result"
    }
   ],
   "source": [
    "np.vstack((a,b))"
   ]
  },
  {
   "cell_type": "code",
   "execution_count": 52,
   "id": "15643912-08fc-472f-af0b-7cf835c7b58b",
   "metadata": {},
   "outputs": [
    {
     "data": {
      "text/plain": [
       "array([ 10,  20,  30,  40,  50,  60,  70,  80,  90, 100,   5,  10,  15,\n",
       "        20,  25,  30,  35,  40,  55,  60])"
      ]
     },
     "execution_count": 52,
     "metadata": {},
     "output_type": "execute_result"
    }
   ],
   "source": [
    "np.hstack((a,b))"
   ]
  },
  {
   "cell_type": "code",
   "execution_count": 53,
   "id": "98af33f2-c241-41d9-baf3-7ae16af5d5a2",
   "metadata": {},
   "outputs": [
    {
     "data": {
      "text/plain": [
       "array([[ 10,   5],\n",
       "       [ 20,  10],\n",
       "       [ 30,  15],\n",
       "       [ 40,  20],\n",
       "       [ 50,  25],\n",
       "       [ 60,  30],\n",
       "       [ 70,  35],\n",
       "       [ 80,  40],\n",
       "       [ 90,  55],\n",
       "       [100,  60]])"
      ]
     },
     "execution_count": 53,
     "metadata": {},
     "output_type": "execute_result"
    }
   ],
   "source": [
    "np.column_stack((a,b))"
   ]
  },
  {
   "cell_type": "code",
   "execution_count": null,
   "id": "de35824c-e25f-4d08-9f10-efa6dadc574b",
   "metadata": {},
   "outputs": [],
   "source": []
  }
 ],
 "metadata": {
  "kernelspec": {
   "display_name": "Python 3 (ipykernel)",
   "language": "python",
   "name": "python3"
  },
  "language_info": {
   "codemirror_mode": {
    "name": "ipython",
    "version": 3
   },
   "file_extension": ".py",
   "mimetype": "text/x-python",
   "name": "python",
   "nbconvert_exporter": "python",
   "pygments_lexer": "ipython3",
   "version": "3.12.7"
  }
 },
 "nbformat": 4,
 "nbformat_minor": 5
}
